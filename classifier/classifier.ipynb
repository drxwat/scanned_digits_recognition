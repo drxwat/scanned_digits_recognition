{
 "cells": [
  {
   "cell_type": "code",
   "execution_count": 1,
   "metadata": {
    "collapsed": true
   },
   "outputs": [],
   "source": [
    "import numpy as np\n",
    "from matplotlib import pyplot as plt\n",
    "%matplotlib inline"
   ]
  },
  {
   "cell_type": "code",
   "execution_count": 2,
   "metadata": {},
   "outputs": [
    {
     "name": "stderr",
     "output_type": "stream",
     "text": [
      "Using Theano backend.\n"
     ]
    }
   ],
   "source": [
    "import keras.backend as K\n",
    "from keras.models import Sequential\n",
    "from keras.layers.core import Dense, Dropout\n",
    "from keras.utils.np_utils import to_categorical\n",
    "from keras.constraints import max_norm\n",
    "from keras.optimizers import SGD"
   ]
  },
  {
   "cell_type": "code",
   "execution_count": 46,
   "metadata": {
    "collapsed": true
   },
   "outputs": [],
   "source": [
    "data_set = np.loadtxt('dataset.csv', delimiter=',', dtype=np.uint8)"
   ]
  },
  {
   "cell_type": "code",
   "execution_count": 47,
   "metadata": {
    "collapsed": true
   },
   "outputs": [],
   "source": [
    "np.random.shuffle(data_set)\n",
    "Y = data_set[:,:1].astype('uint8')\n",
    "X = data_set[:,1:].reshape(data_set.shape[0],900)"
   ]
  },
  {
   "cell_type": "code",
   "execution_count": 48,
   "metadata": {
    "collapsed": true
   },
   "outputs": [],
   "source": [
    "trainset_num = int(len(X) * 0.7) # classical split 70/30\n",
    "\n",
    "X_train = X[:trainset_num]\n",
    "# X_train = X_train.astype('float32')\n",
    "X_train = X_train/255\n",
    "\n",
    "X_test = X[trainset_num:]\n",
    "# X_test = X_test.astype('float32')\n",
    "X_test = X_test/255"
   ]
  },
  {
   "cell_type": "code",
   "execution_count": 49,
   "metadata": {
    "collapsed": true
   },
   "outputs": [],
   "source": [
    "classes_num = 10\n",
    "\n",
    "Y_train = Y[:trainset_num]\n",
    "Y_train = to_categorical(Y_train, classes_num)\n",
    "\n",
    "Y_test = Y[trainset_num:]\n",
    "Y_test = to_categorical(Y_test, classes_num)"
   ]
  },
  {
   "cell_type": "markdown",
   "metadata": {},
   "source": [
    "Отображаем часть картинок с номерами классов."
   ]
  },
  {
   "cell_type": "code",
   "execution_count": 50,
   "metadata": {
    "scrolled": true
   },
   "outputs": [
    {
     "data": {
      "image/png": "[encoded data removed]",
      "text/plain": [
       "<matplotlib.figure.Figure at 0x7fbb27729080>"
      ]
     },
     "metadata": {},
     "output_type": "display_data"
    }
   ],
   "source": [
    "images_n_to_display = 9\n",
    "sample_images = X_train[:images_n_to_display].reshape((images_n_to_display,30,30))\n",
    "\n",
    "fig, axes = plt.subplots(ncols=images_n_to_display)\n",
    "fig.set_figwidth(20)\n",
    "\n",
    "for i in range(images_n_to_display):\n",
    "    axes[i].imshow(sample_images[i], cmap=plt.cm.binary_r)\n",
    "    axes[i].set_xticks(())\n",
    "    axes[i].set_yticks(())\n",
    "    axes[i].text(24,3,np.argmax(Y_train[i]), color='white', size='x-large')"
   ]
  },
  {
   "cell_type": "code",
   "execution_count": 8,
   "metadata": {
    "collapsed": true
   },
   "outputs": [],
   "source": [
    "model = Sequential()\n",
    "\n",
    "model.add(Dropout(0.2, input_shape=(900,)))\n",
    "model.add(Dense(200, activation=K.relu, kernel_constraint=max_norm(3)))\n",
    "model.add(Dropout(0.2))\n",
    "model.add(Dense(200, activation=K.relu, kernel_constraint=max_norm(3)))\n",
    "model.add(Dropout(0.2))\n",
    "model.add(Dense(10, activation='softmax'))\n",
    "\n",
    "optimizer = SGD(momentum=0.9)\n",
    "model.compile(optimizer=optimizer, \n",
    "              loss='categorical_crossentropy',\n",
    "              metrics=['accuracy'])"
   ]
  },
  {
   "cell_type": "code",
   "execution_count": 9,
   "metadata": {},
   "outputs": [
    {
     "name": "stdout",
     "output_type": "stream",
     "text": [
      "Train on 526 samples, validate on 132 samples\n",
      "Epoch 1/50\n",
      "526/526 [==============================] - 0s - loss: 2.3668 - acc: 0.1787 - val_loss: 1.7950 - val_acc: 0.3939\n",
      "Epoch 2/50\n",
      "526/526 [==============================] - 0s - loss: 1.4605 - acc: 0.4962 - val_loss: 0.8170 - val_acc: 0.7879\n",
      "Epoch 3/50\n",
      "526/526 [==============================] - 0s - loss: 0.8121 - acc: 0.7205 - val_loss: 0.4494 - val_acc: 0.8864\n",
      "Epoch 4/50\n",
      "526/526 [==============================] - 0s - loss: 0.5116 - acc: 0.8270 - val_loss: 0.2535 - val_acc: 0.9242\n",
      "Epoch 5/50\n",
      "526/526 [==============================] - 0s - loss: 0.3498 - acc: 0.8783 - val_loss: 0.1373 - val_acc: 0.9621\n",
      "Epoch 6/50\n",
      "526/526 [==============================] - 0s - loss: 0.2465 - acc: 0.9259 - val_loss: 0.1259 - val_acc: 0.9773\n",
      "Epoch 7/50\n",
      "526/526 [==============================] - 0s - loss: 0.1525 - acc: 0.9506 - val_loss: 0.0714 - val_acc: 0.9773\n",
      "Epoch 8/50\n",
      "526/526 [==============================] - 0s - loss: 0.1600 - acc: 0.9544 - val_loss: 0.0677 - val_acc: 0.9773\n",
      "Epoch 9/50\n",
      "526/526 [==============================] - 0s - loss: 0.1319 - acc: 0.9563 - val_loss: 0.0694 - val_acc: 0.9773\n",
      "Epoch 10/50\n",
      "526/526 [==============================] - 0s - loss: 0.1182 - acc: 0.9563 - val_loss: 0.0338 - val_acc: 0.9924\n",
      "Epoch 11/50\n",
      "526/526 [==============================] - 0s - loss: 0.1221 - acc: 0.9601 - val_loss: 0.0663 - val_acc: 0.9924\n",
      "Epoch 12/50\n",
      "526/526 [==============================] - 0s - loss: 0.1576 - acc: 0.9392 - val_loss: 0.0741 - val_acc: 0.9773\n",
      "Epoch 13/50\n",
      "526/526 [==============================] - 0s - loss: 0.1324 - acc: 0.9639 - val_loss: 0.0601 - val_acc: 0.9848\n",
      "Epoch 14/50\n",
      "526/526 [==============================] - 0s - loss: 0.0978 - acc: 0.9677 - val_loss: 0.0449 - val_acc: 0.9848\n",
      "Epoch 15/50\n",
      "526/526 [==============================] - 0s - loss: 0.1114 - acc: 0.9563 - val_loss: 0.0593 - val_acc: 0.9773\n",
      "Epoch 16/50\n",
      "526/526 [==============================] - 0s - loss: 0.0608 - acc: 0.9791 - val_loss: 0.0533 - val_acc: 0.9621\n",
      "Epoch 17/50\n",
      "526/526 [==============================] - 0s - loss: 0.0440 - acc: 0.9905 - val_loss: 0.0467 - val_acc: 0.9848\n",
      "Epoch 18/50\n",
      "526/526 [==============================] - 0s - loss: 0.0669 - acc: 0.9715 - val_loss: 0.0353 - val_acc: 0.9848\n",
      "Epoch 19/50\n",
      "526/526 [==============================] - 0s - loss: 0.0632 - acc: 0.9791 - val_loss: 0.0331 - val_acc: 0.9848\n",
      "Epoch 20/50\n",
      "526/526 [==============================] - 0s - loss: 0.0559 - acc: 0.9753 - val_loss: 0.0499 - val_acc: 0.9848\n",
      "Epoch 21/50\n",
      "526/526 [==============================] - 0s - loss: 0.0468 - acc: 0.9829 - val_loss: 0.0453 - val_acc: 0.9697\n",
      "Epoch 22/50\n",
      "526/526 [==============================] - 0s - loss: 0.0548 - acc: 0.9791 - val_loss: 0.0671 - val_acc: 0.9848\n",
      "Epoch 23/50\n",
      "526/526 [==============================] - 0s - loss: 0.0609 - acc: 0.9753 - val_loss: 0.0363 - val_acc: 0.9848\n",
      "Epoch 24/50\n",
      "526/526 [==============================] - 0s - loss: 0.0967 - acc: 0.9639 - val_loss: 0.0703 - val_acc: 0.9773\n",
      "Epoch 25/50\n",
      "526/526 [==============================] - 0s - loss: 0.0535 - acc: 0.9886 - val_loss: 0.0075 - val_acc: 1.0000\n",
      "Epoch 26/50\n",
      "526/526 [==============================] - 0s - loss: 0.0353 - acc: 0.9905 - val_loss: 0.0476 - val_acc: 0.9848\n",
      "Epoch 27/50\n",
      "526/526 [==============================] - 0s - loss: 0.0540 - acc: 0.9810 - val_loss: 0.0473 - val_acc: 0.9773\n",
      "Epoch 28/50\n",
      "526/526 [==============================] - 0s - loss: 0.0395 - acc: 0.9924 - val_loss: 0.0118 - val_acc: 1.0000\n",
      "Epoch 29/50\n",
      "526/526 [==============================] - 0s - loss: 0.0331 - acc: 0.9867 - val_loss: 0.0631 - val_acc: 0.9848\n",
      "Epoch 30/50\n",
      "526/526 [==============================] - 0s - loss: 0.0200 - acc: 0.9962 - val_loss: 0.0299 - val_acc: 0.9848\n",
      "Epoch 31/50\n",
      "526/526 [==============================] - 0s - loss: 0.0250 - acc: 0.9886 - val_loss: 0.0879 - val_acc: 0.9848\n",
      "Epoch 32/50\n",
      "526/526 [==============================] - 0s - loss: 0.0393 - acc: 0.9829 - val_loss: 0.0518 - val_acc: 0.9848\n",
      "Epoch 33/50\n",
      "526/526 [==============================] - 0s - loss: 0.0348 - acc: 0.9867 - val_loss: 0.0186 - val_acc: 0.9848\n",
      "Epoch 34/50\n",
      "526/526 [==============================] - 0s - loss: 0.0336 - acc: 0.9886 - val_loss: 0.0682 - val_acc: 0.9773\n",
      "Epoch 35/50\n",
      "526/526 [==============================] - 0s - loss: 0.0168 - acc: 0.9943 - val_loss: 0.0382 - val_acc: 0.9848\n",
      "Epoch 36/50\n",
      "526/526 [==============================] - 0s - loss: 0.0243 - acc: 0.9924 - val_loss: 0.0278 - val_acc: 0.9848\n",
      "Epoch 37/50\n",
      "526/526 [==============================] - 0s - loss: 0.0154 - acc: 0.9943 - val_loss: 0.0845 - val_acc: 0.9848\n",
      "Epoch 38/50\n",
      "526/526 [==============================] - 0s - loss: 0.0138 - acc: 0.9981 - val_loss: 0.0100 - val_acc: 1.0000\n",
      "Epoch 39/50\n",
      "526/526 [==============================] - 0s - loss: 0.0283 - acc: 0.9924 - val_loss: 0.0699 - val_acc: 0.9848\n",
      "Epoch 40/50\n",
      "526/526 [==============================] - 0s - loss: 0.0242 - acc: 0.9886 - val_loss: 0.0571 - val_acc: 0.9773\n",
      "Epoch 41/50\n",
      "526/526 [==============================] - 0s - loss: 0.0351 - acc: 0.9867 - val_loss: 0.0500 - val_acc: 0.9848\n",
      "Epoch 42/50\n",
      "526/526 [==============================] - 0s - loss: 0.0167 - acc: 0.9943 - val_loss: 0.0782 - val_acc: 0.9773\n",
      "Epoch 43/50\n",
      "526/526 [==============================] - 0s - loss: 0.0253 - acc: 0.9905 - val_loss: 0.0508 - val_acc: 0.9848\n",
      "Epoch 44/50\n",
      "526/526 [==============================] - 0s - loss: 0.0119 - acc: 0.9981 - val_loss: 0.0780 - val_acc: 0.9773\n",
      "Epoch 45/50\n",
      "526/526 [==============================] - 0s - loss: 0.0208 - acc: 0.9924 - val_loss: 0.0206 - val_acc: 0.9924\n",
      "Epoch 46/50\n",
      "526/526 [==============================] - 0s - loss: 0.0091 - acc: 1.0000 - val_loss: 0.0616 - val_acc: 0.9848\n",
      "Epoch 47/50\n",
      "526/526 [==============================] - 0s - loss: 0.0105 - acc: 0.9962 - val_loss: 0.0568 - val_acc: 0.9773\n",
      "Epoch 48/50\n",
      "526/526 [==============================] - 0s - loss: 0.0145 - acc: 0.9943 - val_loss: 0.0360 - val_acc: 0.9848\n",
      "Epoch 49/50\n",
      "526/526 [==============================] - 0s - loss: 0.0102 - acc: 0.9981 - val_loss: 0.0351 - val_acc: 0.9848\n",
      "Epoch 50/50\n",
      "526/526 [==============================] - 0s - loss: 0.0113 - acc: 0.9962 - val_loss: 0.0061 - val_acc: 1.0000\n"
     ]
    },
    {
     "data": {
      "text/plain": [
       "<keras.callbacks.History at 0x7fbb3f7426a0>"
      ]
     },
     "execution_count": 9,
     "metadata": {},
     "output_type": "execute_result"
    }
   ],
   "source": [
    "model.fit(X_train, Y_train, epochs=50, batch_size=32, validation_split=0.2)"
   ]
  },
  {
   "cell_type": "code",
   "execution_count": 10,
   "metadata": {},
   "outputs": [
    {
     "name": "stdout",
     "output_type": "stream",
     "text": [
      "\r",
      " 32/282 [==>...........................] - ETA: 0s"
     ]
    }
   ],
   "source": [
    "(loss, score) = model.evaluate(X_test, Y_test)\n",
    "print(loss, score)"
   ]
  },
  {
   "cell_type": "code",
   "execution_count": 13,
   "metadata": {},
   "outputs": [
    {
     "name": "stdout",
     "output_type": "stream",
     "text": [
      "\r",
      " 32/282 [==>...........................] - ETA: 0s"
     ]
    }
   ],
   "source": [
    "model_prediction = model.predict_classes(X_test)\n",
    "true_classes = np.argmax(Y_test, 1)\n",
    "error_indexes = np.argwhere(model_prediction - true_classes)"
   ]
  },
  {
   "cell_type": "code",
   "execution_count": 14,
   "metadata": {},
   "outputs": [
    {
     "data": {
      "image/png": "[encoded data removed]",
      "text/plain": [
       "<matplotlib.figure.Figure at 0x7fbb374c1080>"
      ]
     },
     "metadata": {},
     "output_type": "display_data"
    }
   ],
   "source": [
    "n_errors = len(error_indexes)\n",
    "images_n_to_display = n_errors if n_errors < 9 else 9\n",
    "\n",
    "image_indexes = error_indexes[:images_n_to_display].reshape(images_n_to_display)\n",
    "\n",
    "sample_images = X_test[image_indexes].reshape((images_n_to_display,30,30))\n",
    "\n",
    "if n_errors != 1 and n_errors != 0:\n",
    "    fig, axes = plt.subplots(ncols=images_n_to_display)\n",
    "    fig.set_figwidth(20)\n",
    "    \n",
    "    for i in range(images_n_to_display):\n",
    "        axes[i].imshow(sample_images[i], cmap=plt.cm.binary_r)\n",
    "        axes[i].set_xticks(())\n",
    "        axes[i].set_yticks(())\n",
    "        axes[i].text(24,3,true_classes[image_indexes[i]], color='blue', size='x-large')\n",
    "        axes[i].text(20,3,model_prediction[image_indexes[i]], color='red', size='x-large')\n",
    "        \n",
    "elif n_errors == 1:\n",
    "    plt.imshow(sample_images[0], cmap=plt.cm.binary_r)\n",
    "    plt.text(24,3,true_classes[image_indexes[i]], color='blue', size='x-large')\n",
    "    plt.text(20,3,model_prediction[image_indexes[i]], color='red', size='x-large')"
   ]
  },
  {
   "cell_type": "code",
   "execution_count": 16,
   "metadata": {
    "collapsed": true
   },
   "outputs": [],
   "source": [
    "#model.save('classifier.h5')"
   ]
  },
  {
   "cell_type": "code",
   "execution_count": 21,
   "metadata": {
    "collapsed": true
   },
   "outputs": [],
   "source": [
    "from keras.layers.convolutional import Conv2D\n",
    "from keras.layers import MaxPool2D\n",
    "from keras.layers.core import Flatten"
   ]
  },
  {
   "cell_type": "code",
   "execution_count": 51,
   "metadata": {},
   "outputs": [],
   "source": [
    "cnn_model = Sequential()\n",
    "cnn_model.add(Conv2D(32, (3,3), input_shape=(30,30,1), activation=K.relu, data_format='channels_last', kernel_constraint=max_norm(3)))\n",
    "cnn_model.add(Dropout(0.2))\n",
    "cnn_model.add(Conv2D(32, (3,3), activation=K.relu, data_format='channels_last', kernel_constraint=max_norm(3)))\n",
    "cnn_model.add(MaxPool2D())\n",
    "cnn_model.add(Flatten())\n",
    "cnn_model.add(Dense(512, activation=K.relu, kernel_constraint=max_norm(3)))\n",
    "cnn_model.add(Dropout(0.5))\n",
    "cnn_model.add(Dense(10, activation=K.softmax))\n",
    "\n",
    "epochs = 10\n",
    "lrate = 0.01\n",
    "decay = lrate/epochs\n",
    "\n",
    "optimizer = SGD(lr=lrate ,momentum=0.9, decay=decay)\n",
    "cnn_model.compile(optimizer=optimizer, \n",
    "              loss='categorical_crossentropy',\n",
    "              metrics=['accuracy'])"
   ]
  },
  {
   "cell_type": "code",
   "execution_count": 52,
   "metadata": {},
   "outputs": [
    {
     "name": "stdout",
     "output_type": "stream",
     "text": [
      "Train on 526 samples, validate on 132 samples\n",
      "Epoch 1/10\n",
      "526/526 [==============================] - 2s - loss: 2.2830 - acc: 0.1483 - val_loss: 2.2176 - val_acc: 0.4242\n",
      "Epoch 2/10\n",
      "526/526 [==============================] - 2s - loss: 1.7345 - acc: 0.4183 - val_loss: 1.0826 - val_acc: 0.5379\n",
      "Epoch 3/10\n",
      "526/526 [==============================] - 2s - loss: 0.7507 - acc: 0.7510 - val_loss: 0.3587 - val_acc: 0.9091\n",
      "Epoch 4/10\n",
      "526/526 [==============================] - 2s - loss: 0.3045 - acc: 0.8954 - val_loss: 0.1357 - val_acc: 0.9848\n",
      "Epoch 5/10\n",
      "526/526 [==============================] - 2s - loss: 0.2201 - acc: 0.9316 - val_loss: 0.0774 - val_acc: 0.9924\n",
      "Epoch 6/10\n",
      "526/526 [==============================] - 2s - loss: 0.1257 - acc: 0.9582 - val_loss: 0.0358 - val_acc: 1.0000\n",
      "Epoch 7/10\n",
      "526/526 [==============================] - 2s - loss: 0.1561 - acc: 0.9525 - val_loss: 0.1351 - val_acc: 0.9621\n",
      "Epoch 8/10\n",
      "526/526 [==============================] - 3s - loss: 0.1217 - acc: 0.9506 - val_loss: 0.0510 - val_acc: 0.9924\n",
      "Epoch 9/10\n",
      "526/526 [==============================] - 4s - loss: 0.0824 - acc: 0.9791 - val_loss: 0.0350 - val_acc: 0.9924\n",
      "Epoch 10/10\n",
      "526/526 [==============================] - 3s - loss: 0.0382 - acc: 0.9924 - val_loss: 0.0141 - val_acc: 1.0000\n"
     ]
    },
    {
     "data": {
      "text/plain": [
       "<keras.callbacks.History at 0x7fbb25e0e080>"
      ]
     },
     "execution_count": 52,
     "metadata": {},
     "output_type": "execute_result"
    }
   ],
   "source": [
    "cnn_model.fit(X_train.reshape(X_train.shape[0], 30, 30, 1), Y_train, epochs=10, batch_size=32, validation_split=0.2)"
   ]
  },
  {
   "cell_type": "code",
   "execution_count": 53,
   "metadata": {},
   "outputs": [
    {
     "name": "stdout",
     "output_type": "stream",
     "text": [
      "282/282 [==============================] - 0s     \n",
      "0.015423998273 1.0\n"
     ]
    }
   ],
   "source": [
    "(loss, score) = cnn_model.evaluate(X_test.reshape(X_test.shape[0], 30, 30, 1), Y_test)\n",
    "print(loss, score)"
   ]
  },
  {
   "cell_type": "code",
   "execution_count": 54,
   "metadata": {},
   "outputs": [
    {
     "name": "stdout",
     "output_type": "stream",
     "text": [
      "282/282 [==============================] - 0s     \n"
     ]
    }
   ],
   "source": [
    "model_prediction = cnn_model.predict_classes(X_test.reshape(X_test.shape[0], 30, 30, 1))\n",
    "true_classes = np.argmax(Y_test, 1)\n",
    "error_indexes = np.argwhere(model_prediction - true_classes)"
   ]
  },
  {
   "cell_type": "code",
   "execution_count": 55,
   "metadata": {},
   "outputs": [],
   "source": [
    "n_errors = len(error_indexes)\n",
    "images_n_to_display = n_errors if n_errors < 9 else 9\n",
    "\n",
    "image_indexes = error_indexes[:images_n_to_display].reshape(images_n_to_display)\n",
    "\n",
    "sample_images = X_test[image_indexes].reshape((images_n_to_display,30,30))\n",
    "\n",
    "if n_errors != 1 and n_errors != 0:\n",
    "    fig, axes = plt.subplots(ncols=images_n_to_display)\n",
    "    fig.set_figwidth(20)\n",
    "    \n",
    "    for i in range(images_n_to_display):\n",
    "        axes[i].imshow(sample_images[i], cmap=plt.cm.binary_r)\n",
    "        axes[i].set_xticks(())\n",
    "        axes[i].set_yticks(())\n",
    "        axes[i].text(24,3,true_classes[image_indexes[i]], color='blue', size='x-large')\n",
    "        axes[i].text(20,3,model_prediction[image_indexes[i]], color='red', size='x-large')\n",
    "        \n",
    "elif n_errors == 1:\n",
    "    plt.imshow(sample_images[0], cmap=plt.cm.binary_r)\n",
    "    plt.text(24,3,true_classes[image_indexes[i]], color='blue', size='x-large')\n",
    "    plt.text(20,3,model_prediction[image_indexes[i]], color='red', size='x-large')"
   ]
  },
  {
   "cell_type": "code",
   "execution_count": 56,
   "metadata": {
    "collapsed": true
   },
   "outputs": [],
   "source": [
    "model.save('classifier_cnn.h5')"
   ]
  },
  {
   "cell_type": "code",
   "execution_count": null,
   "metadata": {
    "collapsed": true
   },
   "outputs": [],
   "source": []
  }
 ],
 "metadata": {
  "anaconda-cloud": {},
  "kernelspec": {
   "display_name": "Python [Root]",
   "language": "python",
   "name": "Python [Root]"
  },
  "language_info": {
   "codemirror_mode": {
    "name": "ipython",
    "version": 3
   },
   "file_extension": ".py",
   "mimetype": "text/x-python",
   "name": "python",
   "nbconvert_exporter": "python",
   "pygments_lexer": "ipython3",
   "version": "3.5.2"
  }
 },
 "nbformat": 4,
 "nbformat_minor": 1
}
