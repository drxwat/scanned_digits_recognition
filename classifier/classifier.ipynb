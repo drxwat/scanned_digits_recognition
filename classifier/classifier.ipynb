{
 "cells": [
  {
   "cell_type": "code",
   "execution_count": 75,
   "metadata": {
    "collapsed": true
   },
   "outputs": [],
   "source": [
    "import numpy as np\n",
    "from matplotlib import pyplot as plt\n",
    "%matplotlib inline"
   ]
  },
  {
   "cell_type": "code",
   "execution_count": 123,
   "metadata": {},
   "outputs": [],
   "source": [
    "import keras.backend as K\n",
    "from keras.models import Sequential\n",
    "from keras.layers.core import Dense, Dropout\n",
    "from keras.utils.np_utils import to_categorical\n",
    "from keras.constraints import max_norm\n",
    "from keras.optimizers import SGD"
   ]
  },
  {
   "cell_type": "code",
   "execution_count": 143,
   "metadata": {
    "collapsed": true
   },
   "outputs": [],
   "source": [
    "data_set = np.loadtxt('dataset.csv', delimiter=',', dtype=np.uint8)"
   ]
  },
  {
   "cell_type": "code",
   "execution_count": 144,
   "metadata": {
    "collapsed": true
   },
   "outputs": [],
   "source": [
    "np.random.shuffle(data_set)\n",
    "Y = data_set[:,:1].astype('uint8')\n",
    "X = data_set[:,1:].reshape(data_set.shape[0],900)"
   ]
  },
  {
   "cell_type": "code",
   "execution_count": 145,
   "metadata": {
    "collapsed": true
   },
   "outputs": [],
   "source": [
    "trainset_num = int(len(X) * 0.7) # classical split 70/30\n",
    "\n",
    "X_train = X[:trainset_num]\n",
    "# X_train = X_train.astype('float32')\n",
    "X_train = X_train/255\n",
    "\n",
    "X_test = X[trainset_num:]\n",
    "# X_test = X_test.astype('float32')\n",
    "X_test = X_test/255"
   ]
  },
  {
   "cell_type": "code",
   "execution_count": 146,
   "metadata": {
    "collapsed": true
   },
   "outputs": [],
   "source": [
    "classes_num = 10\n",
    "\n",
    "Y_train = Y[:trainset_num]\n",
    "Y_train = to_categorical(Y_train, classes_num)\n",
    "\n",
    "Y_test = Y[trainset_num:]\n",
    "Y_test = to_categorical(Y_test, classes_num)"
   ]
  },
  {
   "cell_type": "markdown",
   "metadata": {},
   "source": [
    "Отображаем часть картинок с номерами классов."
   ]
  },
  {
   "cell_type": "code",
   "execution_count": 147,
   "metadata": {
    "scrolled": true
   },
   "outputs": [
    {
     "data": {
      "image/png": "[encoded data removed]",
      "text/plain": [
       "<matplotlib.figure.Figure at 0x7f2037ae1b70>"
      ]
     },
     "metadata": {},
     "output_type": "display_data"
    }
   ],
   "source": [
    "images_n_to_display = 9\n",
    "sample_images = X_train[:images_n_to_display].reshape((images_n_to_display,30,30))\n",
    "\n",
    "fig, axes = plt.subplots(ncols=images_n_to_display)\n",
    "fig.set_figwidth(20)\n",
    "\n",
    "for i in range(images_n_to_display):\n",
    "    axes[i].imshow(sample_images[i], cmap=plt.cm.binary_r)\n",
    "    axes[i].set_xticks(())\n",
    "    axes[i].set_yticks(())\n",
    "    axes[i].text(24,3,np.argmax(Y_train[i]), color='white', size='x-large')"
   ]
  },
  {
   "cell_type": "code",
   "execution_count": 148,
   "metadata": {},
   "outputs": [],
   "source": [
    "model = Sequential()\n",
    "\n",
    "model.add(Dropout(0.2, input_shape=(900,)))\n",
    "model.add(Dense(200, activation=K.relu, kernel_constraint=max_norm(3)))\n",
    "model.add(Dropout(0.2))\n",
    "model.add(Dense(200, activation=K.relu, kernel_constraint=max_norm(3)))\n",
    "model.add(Dropout(0.2))\n",
    "model.add(Dense(10, activation='softmax'))\n",
    "\n",
    "optimizer = SGD(momentum=0.9)\n",
    "model.compile(optimizer=optimizer, \n",
    "              loss='categorical_crossentropy',\n",
    "              metrics=['accuracy'])"
   ]
  },
  {
   "cell_type": "code",
   "execution_count": 149,
   "metadata": {},
   "outputs": [
    {
     "name": "stdout",
     "output_type": "stream",
     "text": [
      "Train on 526 samples, validate on 132 samples\n",
      "Epoch 1/50\n",
      "526/526 [==============================] - 0s - loss: 2.2555 - acc: 0.1844 - val_loss: 1.6423 - val_acc: 0.5758\n",
      "Epoch 2/50\n",
      "526/526 [==============================] - 0s - loss: 1.4399 - acc: 0.4905 - val_loss: 0.8163 - val_acc: 0.7803\n",
      "Epoch 3/50\n",
      "526/526 [==============================] - 0s - loss: 0.8860 - acc: 0.6920 - val_loss: 0.7284 - val_acc: 0.7348\n",
      "Epoch 4/50\n",
      "526/526 [==============================] - 0s - loss: 0.5503 - acc: 0.8042 - val_loss: 0.3448 - val_acc: 0.8788\n",
      "Epoch 5/50\n",
      "526/526 [==============================] - 0s - loss: 0.3268 - acc: 0.9011 - val_loss: 0.2218 - val_acc: 0.9394\n",
      "Epoch 6/50\n",
      "526/526 [==============================] - 0s - loss: 0.2478 - acc: 0.9240 - val_loss: 0.1220 - val_acc: 0.9773\n",
      "Epoch 7/50\n",
      "526/526 [==============================] - 0s - loss: 0.2033 - acc: 0.9354 - val_loss: 0.0926 - val_acc: 0.9773\n",
      "Epoch 8/50\n",
      "526/526 [==============================] - 0s - loss: 0.2018 - acc: 0.9221 - val_loss: 0.0670 - val_acc: 0.9848\n",
      "Epoch 9/50\n",
      "526/526 [==============================] - 0s - loss: 0.1549 - acc: 0.9411 - val_loss: 0.0938 - val_acc: 0.9773\n",
      "Epoch 10/50\n",
      "526/526 [==============================] - 0s - loss: 0.1576 - acc: 0.9430 - val_loss: 0.0853 - val_acc: 0.9697\n",
      "Epoch 11/50\n",
      "526/526 [==============================] - 0s - loss: 0.1646 - acc: 0.9468 - val_loss: 0.0834 - val_acc: 0.9773\n",
      "Epoch 12/50\n",
      "526/526 [==============================] - 0s - loss: 0.1504 - acc: 0.9506 - val_loss: 0.1169 - val_acc: 0.9697\n",
      "Epoch 13/50\n",
      "526/526 [==============================] - 0s - loss: 0.1121 - acc: 0.9658 - val_loss: 0.0838 - val_acc: 0.9697\n",
      "Epoch 14/50\n",
      "526/526 [==============================] - 0s - loss: 0.0922 - acc: 0.9658 - val_loss: 0.0519 - val_acc: 0.9773\n",
      "Epoch 15/50\n",
      "526/526 [==============================] - 0s - loss: 0.0658 - acc: 0.9829 - val_loss: 0.0681 - val_acc: 0.9848\n",
      "Epoch 16/50\n",
      "526/526 [==============================] - 0s - loss: 0.0670 - acc: 0.9829 - val_loss: 0.0290 - val_acc: 0.9924\n",
      "Epoch 17/50\n",
      "526/526 [==============================] - 0s - loss: 0.0751 - acc: 0.9658 - val_loss: 0.0618 - val_acc: 0.9773\n",
      "Epoch 18/50\n",
      "526/526 [==============================] - 0s - loss: 0.0580 - acc: 0.9810 - val_loss: 0.0467 - val_acc: 0.9848\n",
      "Epoch 19/50\n",
      "526/526 [==============================] - 0s - loss: 0.0713 - acc: 0.9734 - val_loss: 0.0530 - val_acc: 0.9773\n",
      "Epoch 20/50\n",
      "526/526 [==============================] - 0s - loss: 0.0837 - acc: 0.9753 - val_loss: 0.0558 - val_acc: 0.9848\n",
      "Epoch 21/50\n",
      "526/526 [==============================] - 0s - loss: 0.0918 - acc: 0.9677 - val_loss: 0.0560 - val_acc: 0.9848\n",
      "Epoch 22/50\n",
      "526/526 [==============================] - 0s - loss: 0.0877 - acc: 0.9772 - val_loss: 0.0895 - val_acc: 0.9848\n",
      "Epoch 23/50\n",
      "526/526 [==============================] - 0s - loss: 0.0712 - acc: 0.9753 - val_loss: 0.0383 - val_acc: 0.9848\n",
      "Epoch 24/50\n",
      "526/526 [==============================] - 0s - loss: 0.0517 - acc: 0.9848 - val_loss: 0.0383 - val_acc: 0.9848\n",
      "Epoch 25/50\n",
      "526/526 [==============================] - 0s - loss: 0.0550 - acc: 0.9810 - val_loss: 0.0223 - val_acc: 0.9924\n",
      "Epoch 26/50\n",
      "526/526 [==============================] - 0s - loss: 0.0584 - acc: 0.9829 - val_loss: 0.0309 - val_acc: 0.9924\n",
      "Epoch 27/50\n",
      "526/526 [==============================] - 0s - loss: 0.0301 - acc: 0.9943 - val_loss: 0.0245 - val_acc: 1.0000\n",
      "Epoch 28/50\n",
      "526/526 [==============================] - 0s - loss: 0.0717 - acc: 0.9848 - val_loss: 0.0170 - val_acc: 1.0000\n",
      "Epoch 29/50\n",
      "526/526 [==============================] - 0s - loss: 0.0796 - acc: 0.9715 - val_loss: 0.0284 - val_acc: 0.9848\n",
      "Epoch 30/50\n",
      "526/526 [==============================] - 0s - loss: 0.0598 - acc: 0.9772 - val_loss: 0.0502 - val_acc: 0.9773\n",
      "Epoch 31/50\n",
      "526/526 [==============================] - 0s - loss: 0.0346 - acc: 0.9886 - val_loss: 0.0169 - val_acc: 1.0000\n",
      "Epoch 32/50\n",
      "526/526 [==============================] - 0s - loss: 0.0719 - acc: 0.9772 - val_loss: 0.0385 - val_acc: 0.9848\n",
      "Epoch 33/50\n",
      "526/526 [==============================] - 0s - loss: 0.0346 - acc: 0.9886 - val_loss: 0.0157 - val_acc: 0.9924\n",
      "Epoch 34/50\n",
      "526/526 [==============================] - 0s - loss: 0.0262 - acc: 0.9924 - val_loss: 0.0098 - val_acc: 1.0000\n",
      "Epoch 35/50\n",
      "526/526 [==============================] - 0s - loss: 0.0182 - acc: 0.9981 - val_loss: 0.0100 - val_acc: 1.0000\n",
      "Epoch 36/50\n",
      "526/526 [==============================] - 0s - loss: 0.0137 - acc: 0.9943 - val_loss: 0.0083 - val_acc: 1.0000\n",
      "Epoch 37/50\n",
      "526/526 [==============================] - 0s - loss: 0.0193 - acc: 0.9943 - val_loss: 0.0105 - val_acc: 1.0000\n",
      "Epoch 38/50\n",
      "526/526 [==============================] - 0s - loss: 0.0132 - acc: 0.9981 - val_loss: 0.0126 - val_acc: 0.9924\n",
      "Epoch 39/50\n",
      "526/526 [==============================] - 0s - loss: 0.0372 - acc: 0.9848 - val_loss: 0.0191 - val_acc: 1.0000\n",
      "Epoch 40/50\n",
      "526/526 [==============================] - 0s - loss: 0.0227 - acc: 0.9905 - val_loss: 0.0107 - val_acc: 0.9924\n",
      "Epoch 41/50\n",
      "526/526 [==============================] - 0s - loss: 0.0274 - acc: 0.9905 - val_loss: 0.0110 - val_acc: 1.0000\n",
      "Epoch 42/50\n",
      "526/526 [==============================] - 0s - loss: 0.0196 - acc: 0.9943 - val_loss: 0.0185 - val_acc: 0.9924\n",
      "Epoch 43/50\n",
      "526/526 [==============================] - 0s - loss: 0.0180 - acc: 0.9943 - val_loss: 0.0112 - val_acc: 1.0000\n",
      "Epoch 44/50\n",
      "526/526 [==============================] - 0s - loss: 0.0228 - acc: 0.9924 - val_loss: 0.0093 - val_acc: 1.0000\n",
      "Epoch 45/50\n",
      "526/526 [==============================] - 0s - loss: 0.0240 - acc: 0.9924 - val_loss: 0.0103 - val_acc: 1.0000\n",
      "Epoch 46/50\n",
      "526/526 [==============================] - 0s - loss: 0.0611 - acc: 0.9791 - val_loss: 0.0144 - val_acc: 0.9924\n",
      "Epoch 47/50\n",
      "526/526 [==============================] - 0s - loss: 0.0228 - acc: 0.9962 - val_loss: 0.0061 - val_acc: 1.0000\n",
      "Epoch 48/50\n",
      "526/526 [==============================] - 0s - loss: 0.0354 - acc: 0.9924 - val_loss: 0.0078 - val_acc: 1.0000\n",
      "Epoch 49/50\n",
      "526/526 [==============================] - 0s - loss: 0.0581 - acc: 0.9848 - val_loss: 0.0144 - val_acc: 1.0000\n",
      "Epoch 50/50\n",
      "526/526 [==============================] - 0s - loss: 0.0203 - acc: 0.9943 - val_loss: 0.0102 - val_acc: 1.0000\n"
     ]
    },
    {
     "data": {
      "text/plain": [
       "<keras.callbacks.History at 0x7f2037c04d30>"
      ]
     },
     "execution_count": 149,
     "metadata": {},
     "output_type": "execute_result"
    }
   ],
   "source": [
    "model.fit(X_train, Y_train, epochs=50, batch_size=32, validation_split=0.2)"
   ]
  },
  {
   "cell_type": "code",
   "execution_count": 150,
   "metadata": {},
   "outputs": [
    {
     "name": "stdout",
     "output_type": "stream",
     "text": [
      "\r",
      " 32/282 [==>...........................] - ETA: 0s"
     ]
    }
   ],
   "source": [
    "(loss, score) = model.evaluate(X_test, Y_test)"
   ]
  },
  {
   "cell_type": "code",
   "execution_count": 151,
   "metadata": {},
   "outputs": [
    {
     "data": {
      "text/plain": [
       "0.018244692613205587"
      ]
     },
     "execution_count": 151,
     "metadata": {},
     "output_type": "execute_result"
    }
   ],
   "source": [
    "loss"
   ]
  },
  {
   "cell_type": "code",
   "execution_count": 152,
   "metadata": {},
   "outputs": [
    {
     "data": {
      "text/plain": [
       "0.99290780141843971"
      ]
     },
     "execution_count": 152,
     "metadata": {},
     "output_type": "execute_result"
    }
   ],
   "source": [
    "score"
   ]
  },
  {
   "cell_type": "code",
   "execution_count": 153,
   "metadata": {},
   "outputs": [
    {
     "name": "stdout",
     "output_type": "stream",
     "text": [
      "\r",
      " 32/282 [==>...........................] - ETA: 0s"
     ]
    }
   ],
   "source": [
    "model_prediction = model.predict_classes(X_test)\n",
    "true_classes = np.argmax(Y_test, 1)\n",
    "error_indexes = np.argwhere(model_prediction - true_classes)"
   ]
  },
  {
   "cell_type": "code",
   "execution_count": 154,
   "metadata": {},
   "outputs": [
    {
     "data": {
      "image/png": "[encoded data removed]",
      "text/plain": [
       "<matplotlib.figure.Figure at 0x7f20400564a8>"
      ]
     },
     "metadata": {},
     "output_type": "display_data"
    }
   ],
   "source": [
    "n_errors = len(error_indexes)\n",
    "images_n_to_display = n_errors if n_errors < 9 else 9\n",
    "\n",
    "image_indexes = error_indexes[:images_n_to_display].reshape(images_n_to_display)\n",
    "\n",
    "sample_images = X_test[image_indexes].reshape((images_n_to_display,30,30))\n",
    "\n",
    "if n_errors != 1 and n_errors != 0:\n",
    "    fig, axes = plt.subplots(ncols=images_n_to_display)\n",
    "    fig.set_figwidth(20)\n",
    "    \n",
    "    for i in range(images_n_to_display):\n",
    "        axes[i].imshow(sample_images[i], cmap=plt.cm.binary_r)\n",
    "        axes[i].set_xticks(())\n",
    "        axes[i].set_yticks(())\n",
    "        axes[i].text(24,3,true_classes[image_indexes[i]], color='blue', size='x-large')\n",
    "        axes[i].text(20,3,model_prediction[image_indexes[i]], color='red', size='x-large')\n",
    "        \n",
    "elif n_errors == 1:\n",
    "    plt.imshow(sample_images[0], cmap=plt.cm.binary_r)\n",
    "    plt.text(24,3,true_classes[image_indexes[i]], color='blue', size='x-large')\n",
    "    plt.text(20,3,model_prediction[image_indexes[i]], color='red', size='x-large')"
   ]
  },
  {
   "cell_type": "code",
   "execution_count": 155,
   "metadata": {
    "collapsed": true
   },
   "outputs": [],
   "source": [
    "model.save('classifier.h5')"
   ]
  }
 ],
 "metadata": {
  "anaconda-cloud": {},
  "kernelspec": {
   "display_name": "Python [Root]",
   "language": "python",
   "name": "Python [Root]"
  },
  "language_info": {
   "codemirror_mode": {
    "name": "ipython",
    "version": 3
   },
   "file_extension": ".py",
   "mimetype": "text/x-python",
   "name": "python",
   "nbconvert_exporter": "python",
   "pygments_lexer": "ipython3",
   "version": "3.5.2"
  }
 },
 "nbformat": 4,
 "nbformat_minor": 1
}
