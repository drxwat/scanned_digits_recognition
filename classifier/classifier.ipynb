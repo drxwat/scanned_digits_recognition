{
 "cells": [
  {
   "cell_type": "code",
   "execution_count": 26,
   "metadata": {
    "collapsed": true
   },
   "outputs": [],
   "source": [
    "import numpy as np\n",
    "from matplotlib import pyplot as plt\n",
    "%matplotlib inline"
   ]
  },
  {
   "cell_type": "code",
   "execution_count": 27,
   "metadata": {},
   "outputs": [],
   "source": [
    "import keras.backend as K\n",
    "from keras.models import Sequential\n",
    "from keras.layers.core import Dense, Dropout\n",
    "from keras.utils.np_utils import to_categorical\n",
    "from keras.constraints import max_norm\n",
    "from keras.optimizers import SGD\n",
    "from keras.layers.convolutional import Conv2D\n",
    "from keras.layers import MaxPool2D\n",
    "from keras.layers.core import Flatten"
   ]
  },
  {
   "cell_type": "code",
   "execution_count": 28,
   "metadata": {},
   "outputs": [],
   "source": [
    "data_set = np.loadtxt('dataset2.csv', delimiter=',', dtype=np.uint8)"
   ]
  },
  {
   "cell_type": "code",
   "execution_count": 29,
   "metadata": {
    "collapsed": true
   },
   "outputs": [],
   "source": [
    "np.random.shuffle(data_set)\n",
    "Y = data_set[:,:1].astype('uint8')\n",
    "X = data_set[:,1:].reshape(data_set.shape[0],900)"
   ]
  },
  {
   "cell_type": "code",
   "execution_count": 30,
   "metadata": {
    "collapsed": true
   },
   "outputs": [],
   "source": [
    "trainset_num = int(len(X) * 0.7) # classical split 70/30\n",
    "\n",
    "X_train = X[:trainset_num]\n",
    "# X_train = X_train.astype('float32')\n",
    "X_train = X_train/255\n",
    "\n",
    "X_test = X[trainset_num:]\n",
    "# X_test = X_test.astype('float32')\n",
    "X_test = X_test/255"
   ]
  },
  {
   "cell_type": "code",
   "execution_count": 31,
   "metadata": {
    "collapsed": true
   },
   "outputs": [],
   "source": [
    "classes_num = 10\n",
    "\n",
    "Y_train = Y[:trainset_num]\n",
    "Y_train = to_categorical(Y_train, classes_num)\n",
    "\n",
    "Y_test = Y[trainset_num:]\n",
    "Y_test = to_categorical(Y_test, classes_num)"
   ]
  },
  {
   "cell_type": "markdown",
   "metadata": {},
   "source": [
    "Отображаем часть картинок с номерами классов."
   ]
  },
  {
   "cell_type": "code",
   "execution_count": 32,
   "metadata": {
    "scrolled": true
   },
   "outputs": [
    {
     "data": {
      "image/png": "[encoded data removed]",
      "text/plain": [
       "<matplotlib.figure.Figure at 0x7f7fffac6860>"
      ]
     },
     "metadata": {},
     "output_type": "display_data"
    }
   ],
   "source": [
    "images_n_to_display = 9\n",
    "sample_images = X_train[:images_n_to_display].reshape((images_n_to_display,30,30))\n",
    "\n",
    "fig, axes = plt.subplots(ncols=images_n_to_display)\n",
    "fig.set_figwidth(20)\n",
    "\n",
    "for i in range(images_n_to_display):\n",
    "    axes[i].imshow(sample_images[i], cmap=plt.cm.binary_r)\n",
    "    axes[i].set_xticks(())\n",
    "    axes[i].set_yticks(())\n",
    "    axes[i].text(24,3,np.argmax(Y_train[i]), color='white', size='x-large')"
   ]
  },
  {
   "cell_type": "code",
   "execution_count": 33,
   "metadata": {
    "collapsed": true
   },
   "outputs": [],
   "source": [
    "cnn_model = Sequential()\n",
    "cnn_model.add(Conv2D(32, (3,3), input_shape=(30,30,1), activation=K.relu, data_format='channels_last', kernel_constraint=max_norm(3)))\n",
    "cnn_model.add(Dropout(0.2))\n",
    "cnn_model.add(Conv2D(32, (3,3), activation=K.relu, data_format='channels_last', kernel_constraint=max_norm(3)))\n",
    "cnn_model.add(MaxPool2D())\n",
    "cnn_model.add(Flatten())\n",
    "cnn_model.add(Dense(512, activation=K.relu, kernel_constraint=max_norm(3)))\n",
    "cnn_model.add(Dropout(0.5))\n",
    "cnn_model.add(Dense(10, activation=K.softmax))\n",
    "\n",
    "epochs = 10\n",
    "lrate = 0.01\n",
    "decay = lrate/epochs\n",
    "\n",
    "optimizer = SGD(lr=lrate ,momentum=0.9, decay=decay)\n",
    "cnn_model.compile(optimizer=optimizer, \n",
    "              loss='categorical_crossentropy',\n",
    "              metrics=['accuracy'])"
   ]
  },
  {
   "cell_type": "code",
   "execution_count": 34,
   "metadata": {},
   "outputs": [
    {
     "name": "stdout",
     "output_type": "stream",
     "text": [
      "Train on 1222 samples, validate on 306 samples\n",
      "Epoch 1/10\n",
      "1222/1222 [==============================] - 6s - loss: 1.8150 - acc: 0.3699 - val_loss: 0.7474 - val_acc: 0.9314\n",
      "Epoch 2/10\n",
      "1222/1222 [==============================] - 6s - loss: 0.4598 - acc: 0.8494 - val_loss: 0.1989 - val_acc: 0.9412\n",
      "Epoch 3/10\n",
      "1222/1222 [==============================] - 6s - loss: 0.1734 - acc: 0.9386 - val_loss: 0.0653 - val_acc: 0.9902\n",
      "Epoch 4/10\n",
      "1222/1222 [==============================] - 6s - loss: 0.0826 - acc: 0.9779 - val_loss: 0.0420 - val_acc: 0.9902\n",
      "Epoch 5/10\n",
      "1222/1222 [==============================] - 8s - loss: 0.0689 - acc: 0.9812 - val_loss: 0.0106 - val_acc: 1.0000\n",
      "Epoch 6/10\n",
      "1222/1222 [==============================] - 6s - loss: 0.1008 - acc: 0.9722 - val_loss: 0.0150 - val_acc: 1.0000\n",
      "Epoch 7/10\n",
      "1222/1222 [==============================] - 9s - loss: 0.0243 - acc: 0.9935 - val_loss: 0.0108 - val_acc: 0.9967\n",
      "Epoch 8/10\n",
      "1222/1222 [==============================] - 8s - loss: 0.0157 - acc: 0.9967 - val_loss: 0.0036 - val_acc: 1.0000\n",
      "Epoch 9/10\n",
      "1222/1222 [==============================] - 8s - loss: 0.0094 - acc: 0.9984 - val_loss: 0.0024 - val_acc: 1.0000\n",
      "Epoch 10/10\n",
      "1222/1222 [==============================] - 8s - loss: 0.0144 - acc: 0.9959 - val_loss: 0.0036 - val_acc: 1.0000\n"
     ]
    },
    {
     "data": {
      "text/plain": [
       "<keras.callbacks.History at 0x7f800fc0aa90>"
      ]
     },
     "execution_count": 34,
     "metadata": {},
     "output_type": "execute_result"
    }
   ],
   "source": [
    "cnn_model.fit(X_train.reshape(X_train.shape[0], 30, 30, 1), Y_train, epochs=10, batch_size=32, validation_split=0.2)"
   ]
  },
  {
   "cell_type": "code",
   "execution_count": 35,
   "metadata": {},
   "outputs": [
    {
     "name": "stdout",
     "output_type": "stream",
     "text": [
      "640/655 [============================>.] - ETA: 0s0.00324734792696 1.0\n"
     ]
    }
   ],
   "source": [
    "(loss, score) = cnn_model.evaluate(X_test.reshape(X_test.shape[0], 30, 30, 1), Y_test)\n",
    "print(loss, score)"
   ]
  },
  {
   "cell_type": "code",
   "execution_count": 36,
   "metadata": {},
   "outputs": [
    {
     "name": "stdout",
     "output_type": "stream",
     "text": [
      "655/655 [==============================] - 1s     \n"
     ]
    }
   ],
   "source": [
    "model_prediction = cnn_model.predict_classes(X_test.reshape(X_test.shape[0], 30, 30, 1))\n",
    "true_classes = np.argmax(Y_test, 1)\n",
    "error_indexes = np.argwhere(model_prediction - true_classes)"
   ]
  },
  {
   "cell_type": "code",
   "execution_count": 37,
   "metadata": {
    "collapsed": true
   },
   "outputs": [],
   "source": [
    "n_errors = len(error_indexes)\n",
    "images_n_to_display = n_errors if n_errors < 9 else 9\n",
    "\n",
    "image_indexes = error_indexes[:images_n_to_display].reshape(images_n_to_display)\n",
    "\n",
    "sample_images = X_test[image_indexes].reshape((images_n_to_display,30,30))\n",
    "\n",
    "if n_errors != 1 and n_errors != 0:\n",
    "    fig, axes = plt.subplots(ncols=images_n_to_display)\n",
    "    fig.set_figwidth(20)\n",
    "    \n",
    "    for i in range(images_n_to_display):\n",
    "        axes[i].imshow(sample_images[i], cmap=plt.cm.binary_r)\n",
    "        axes[i].set_xticks(())\n",
    "        axes[i].set_yticks(())\n",
    "        axes[i].text(24,3,true_classes[image_indexes[i]], color='blue', size='x-large')\n",
    "        axes[i].text(20,3,model_prediction[image_indexes[i]], color='red', size='x-large')\n",
    "        \n",
    "elif n_errors == 1:\n",
    "    plt.imshow(sample_images[0], cmap=plt.cm.binary_r)\n",
    "    plt.text(24,3,true_classes[image_indexes[i]], color='blue', size='x-large')\n",
    "    plt.text(20,3,model_prediction[image_indexes[i]], color='red', size='x-large')"
   ]
  },
  {
   "cell_type": "code",
   "execution_count": 39,
   "metadata": {},
   "outputs": [],
   "source": [
    "cnn_model.save('classifier_cnn.h5')"
   ]
  },
  {
   "cell_type": "code",
   "execution_count": 43,
   "metadata": {},
   "outputs": [
    {
     "data": {
      "text/plain": [
       "(1528, 900)"
      ]
     },
     "execution_count": 43,
     "metadata": {},
     "output_type": "execute_result"
    }
   ],
   "source": [
    "X_train.shape"
   ]
  },
  {
   "cell_type": "code",
   "execution_count": null,
   "metadata": {
    "collapsed": true
   },
   "outputs": [],
   "source": []
  }
 ],
 "metadata": {
  "anaconda-cloud": {},
  "kernelspec": {
   "display_name": "Python [Root]",
   "language": "python",
   "name": "Python [Root]"
  },
  "language_info": {
   "codemirror_mode": {
    "name": "ipython",
    "version": 3
   },
   "file_extension": ".py",
   "mimetype": "text/x-python",
   "name": "python",
   "nbconvert_exporter": "python",
   "pygments_lexer": "ipython3",
   "version": "3.5.2"
  }
 },
 "nbformat": 4,
 "nbformat_minor": 1
}
