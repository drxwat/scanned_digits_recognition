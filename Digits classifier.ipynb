{
 "cells": [
  {
   "cell_type": "code",
   "execution_count": 1,
   "metadata": {
    "collapsed": true
   },
   "outputs": [],
   "source": [
    "import numpy as np\n",
    "import pandas as pd\n",
    "from matplotlib import pyplot as plt\n",
    "%matplotlib inline"
   ]
  },
  {
   "cell_type": "code",
   "execution_count": 2,
   "metadata": {},
   "outputs": [
    {
     "name": "stderr",
     "output_type": "stream",
     "text": [
      "Using Theano backend.\n"
     ]
    }
   ],
   "source": [
    "import keras.backend as K\n",
    "from keras.models import Sequential\n",
    "from keras.layers.core import Dense, Activation, Dropout\n",
    "from keras.layers.convolutional import Conv2D\n",
    "from keras.layers.convolutional import MaxPooling2D\n",
    "from keras.layers import Flatten\n",
    "from keras.utils.np_utils import to_categorical\n",
    "from keras.constraints import maxnorm\n",
    "from keras.optimizers import RMSprop, SGD\n",
    "from keras.constraints import maxnorm"
   ]
  },
  {
   "cell_type": "code",
   "execution_count": 3,
   "metadata": {
    "collapsed": true
   },
   "outputs": [],
   "source": [
    "data_set = np.loadtxt('digits/dataset.csv', delimiter=',', dtype=np.uint8)"
   ]
  },
  {
   "cell_type": "code",
   "execution_count": 4,
   "metadata": {
    "collapsed": true
   },
   "outputs": [],
   "source": [
    "np.random.shuffle(data_set)\n",
    "Y = data_set[:,:1].astype('uint8')\n",
    "X = data_set[:,1:].reshape(data_set.shape[0],900)"
   ]
  },
  {
   "cell_type": "code",
   "execution_count": 5,
   "metadata": {
    "collapsed": true
   },
   "outputs": [],
   "source": [
    "trainset_num = int(len(X) * 0.7) # classical split 70/30\n",
    "\n",
    "X_train = X[:trainset_num]\n",
    "# X_train = X_train.astype('float32')\n",
    "X_train = X_train/255\n",
    "\n",
    "X_test = X[trainset_num:]\n",
    "# X_test = X_test.astype('float32')\n",
    "X_test = X_test/255"
   ]
  },
  {
   "cell_type": "code",
   "execution_count": 6,
   "metadata": {
    "collapsed": true
   },
   "outputs": [],
   "source": [
    "classes_num = 10\n",
    "\n",
    "Y_train = Y[:trainset_num]\n",
    "Y_train = to_categorical(Y_train, classes_num)\n",
    "\n",
    "Y_test = Y[trainset_num:]\n",
    "Y_test = to_categorical(Y_test, classes_num)"
   ]
  },
  {
   "cell_type": "markdown",
   "metadata": {},
   "source": [
    "Отображаем часть картинок с номерами классов."
   ]
  },
  {
   "cell_type": "code",
   "execution_count": 7,
   "metadata": {
    "scrolled": true
   },
   "outputs": [
    {
     "data": {
      "image/png": "[encoded data removed]",
      "text/plain": [
       "<matplotlib.figure.Figure at 0x7fd85a4dae80>"
      ]
     },
     "metadata": {},
     "output_type": "display_data"
    }
   ],
   "source": [
    "images_n_to_display = 9\n",
    "sample_images = X_train[:images_n_to_display].reshape((images_n_to_display,30,30))\n",
    "\n",
    "fig, axes = plt.subplots(ncols=images_n_to_display)\n",
    "fig.set_figwidth(20)\n",
    "\n",
    "for i in range(images_n_to_display):\n",
    "    axes[i].imshow(sample_images[i], cmap=plt.cm.binary_r)\n",
    "    axes[i].set_xticks(())\n",
    "    axes[i].set_yticks(())\n",
    "    axes[i].text(24,3,np.argmax(Y_train[i]), color='white', size='x-large')\n"
   ]
  },
  {
   "cell_type": "code",
   "execution_count": 30,
   "metadata": {},
   "outputs": [
    {
     "name": "stdout",
     "output_type": "stream",
     "text": [
      "Epoch 1/10\n",
      "793/793 [==============================] - 0s - loss: 0.4148 - acc: 0.8764      \n",
      "Epoch 2/10\n",
      "793/793 [==============================] - 0s - loss: 0.0744 - acc: 0.9798     \n",
      "Epoch 3/10\n",
      "793/793 [==============================] - 0s - loss: 0.0237 - acc: 0.9924     \n",
      "Epoch 4/10\n",
      "793/793 [==============================] - 0s - loss: 0.0204 - acc: 0.9937     \n",
      "Epoch 5/10\n",
      "793/793 [==============================] - 0s - loss: 0.0230 - acc: 0.9962     \n",
      "Epoch 6/10\n",
      "793/793 [==============================] - 0s - loss: 0.0012 - acc: 1.0000     \n",
      "Epoch 7/10\n",
      "793/793 [==============================] - 0s - loss: 0.0014 - acc: 1.0000         \n",
      "Epoch 8/10\n",
      "793/793 [==============================] - 0s - loss: 0.0291 - acc: 0.9937      \n",
      "Epoch 9/10\n",
      "793/793 [==============================] - 0s - loss: 1.9054e-04 - acc: 1.0000     \n",
      "Epoch 10/10\n",
      "793/793 [==============================] - 0s - loss: 8.2418e-04 - acc: 1.0000     \n"
     ]
    },
    {
     "data": {
      "text/plain": [
       "<keras.callbacks.History at 0x7fd842005da0>"
      ]
     },
     "execution_count": 30,
     "metadata": {},
     "output_type": "execute_result"
    }
   ],
   "source": [
    "\n",
    "\n",
    "model = Sequential()\n",
    "\n",
    "model.add(Dense(512, input_dim=900, activation=K.relu))\n",
    "model.add(Dense(10, activation='softmax'))\n",
    "model.compile(optimizer='rmsprop',\n",
    "              loss='categorical_crossentropy',\n",
    "              metrics=['accuracy'])\n",
    "\n",
    "# data = np.random.random((793, 900))\n",
    "# labels = np.random.randint(10, size=(793, 10))\n",
    "# data = np.random.random((1000, 100))\n",
    "# labels = np.random.randint(2, size=(1000, 1))\n",
    "\n",
    "data = np.random.random((1000, 100))\n",
    "labels = np.random.randint(10, size=(1000, 1))\n",
    "\n",
    "# Convert labels to categorical one-hot encoding\n",
    "one_hot_labels = to_categorical(labels, num_classes=10)\n",
    "\n",
    "# Train the model, iterating on the data in batches of 32 samples\n",
    "model.fit(X_train, Y_train, epochs=10, batch_size=32)"
   ]
  },
  {
   "cell_type": "code",
   "execution_count": 31,
   "metadata": {},
   "outputs": [
    {
     "name": "stdout",
     "output_type": "stream",
     "text": [
      "\r",
      " 32/341 [=>............................] - ETA: 0s"
     ]
    }
   ],
   "source": [
    "(loss, score) = model.evaluate(X_test, Y_test)"
   ]
  },
  {
   "cell_type": "code",
   "execution_count": 32,
   "metadata": {},
   "outputs": [
    {
     "data": {
      "text/plain": [
       "0.032591179472085667"
      ]
     },
     "execution_count": 32,
     "metadata": {},
     "output_type": "execute_result"
    }
   ],
   "source": [
    "loss"
   ]
  },
  {
   "cell_type": "code",
   "execution_count": 33,
   "metadata": {},
   "outputs": [
    {
     "data": {
      "text/plain": [
       "0.99120234621584935"
      ]
     },
     "execution_count": 33,
     "metadata": {},
     "output_type": "execute_result"
    }
   ],
   "source": [
    "score"
   ]
  },
  {
   "cell_type": "code",
   "execution_count": 35,
   "metadata": {},
   "outputs": [
    {
     "name": "stdout",
     "output_type": "stream",
     "text": [
      "\r",
      " 32/341 [=>............................] - ETA: 0s"
     ]
    }
   ],
   "source": [
    "model_prediction = model.predict_classes(X_test)\n",
    "true_classes = np.argmax(Y_test, 1)\n",
    "error_indexes = np.argwhere(model_prediction - true_classes)"
   ]
  },
  {
   "cell_type": "code",
   "execution_count": 38,
   "metadata": {},
   "outputs": [
    {
     "data": {
      "image/png": "[encoded data removed]",
      "text/plain": [
       "<matplotlib.figure.Figure at 0x7fd8501f4518>"
      ]
     },
     "metadata": {},
     "output_type": "display_data"
    }
   ],
   "source": [
    "images_n_to_display = 3\n",
    "\n",
    "image_indexes = error_indexes[:images_n_to_display].reshape(images_n_to_display)\n",
    "\n",
    "sample_images = X_test[image_indexes].reshape((images_n_to_display,30,30))\n",
    "\n",
    "fig, axes = plt.subplots(ncols=images_n_to_display)\n",
    "fig.set_figwidth(20)\n",
    "\n",
    "for i in range(images_n_to_display):\n",
    "    axes[i].imshow(sample_images[i], cmap=plt.cm.binary)\n",
    "    axes[i].set_xticks(())\n",
    "    axes[i].set_yticks(())\n",
    "    axes[i].text(24,3,true_classes[image_indexes[i]], color='blue', size='x-large')\n",
    "    axes[i].text(20,3,model_prediction[image_indexes[i]], color='red', size='x-large')"
   ]
  },
  {
   "cell_type": "code",
   "execution_count": 37,
   "metadata": {},
   "outputs": [
    {
     "name": "stdout",
     "output_type": "stream",
     "text": [
      "[[ 84]\n",
      " [135]\n",
      " [331]]\n"
     ]
    }
   ],
   "source": [
    "print(error_indexes)"
   ]
  },
  {
   "cell_type": "code",
   "execution_count": null,
   "metadata": {
    "collapsed": true
   },
   "outputs": [],
   "source": []
  }
 ],
 "metadata": {
  "anaconda-cloud": {},
  "kernelspec": {
   "display_name": "Python [Root]",
   "language": "python",
   "name": "Python [Root]"
  },
  "language_info": {
   "codemirror_mode": {
    "name": "ipython",
    "version": 3
   },
   "file_extension": ".py",
   "mimetype": "text/x-python",
   "name": "python",
   "nbconvert_exporter": "python",
   "pygments_lexer": "ipython3",
   "version": "3.5.2"
  }
 },
 "nbformat": 4,
 "nbformat_minor": 1
}
